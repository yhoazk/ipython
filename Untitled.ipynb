{
 "cells": [
  {
   "cell_type": "markdown",
   "metadata": {
    "slideshow": {
     "slide_type": "slide"
    }
   },
   "source": [
    "#Introduction to Python\n",
    "- How Python works\n",
    "- Python Statements\n",
    "- Expressions vs Statements\n",
    "- Built-in types and functions\n",
    "- How to use import\n",
    "- Application example\n"
   ]
  },
  {
   "cell_type": "markdown",
   "metadata": {
    "slideshow": {
     "slide_type": "notes"
    }
   },
   "source": [
    "##Python is not\n",
    "### A high performance language\n",
    " Eventhouhg there are a lot of scientific applications using python.\n",
    " Here is a compromise between performance and development time and flexibility.\n",
    "### "
   ]
  },
  {
   "cell_type": "markdown",
   "metadata": {
    "slideshow": {
     "slide_type": "-"
    }
   },
   "source": [
    "#How Python works\n",
    "- Python is implicitly compiled to byte code, similarly as Java.\n",
    "- It is partialy compiled into byte code and interpreted.\n",
    "- Python uses a stack based Virutal Machine\n",
    "- Uses dynamic types\n",
    "\n",
    "\n",
    "#Example\n"
   ]
  },
  {
   "cell_type": "code",
   "execution_count": 8,
   "metadata": {
    "collapsed": false
   },
   "outputs": [
    {
     "name": "stdout",
     "output_type": "stream",
     "text": [
      "6\n"
     ]
    }
   ],
   "source": [
    "a = 1\n",
    "b = 2\n",
    "c = a + b\n",
    "print c"
   ]
  },
  {
   "cell_type": "raw",
   "metadata": {},
   "source": [
    "The python interpreter does more or less the following:\n",
    "\n",
    "1.1 Set a->PyObject_HEAD->typecode = integer\n",
    "1.2 Set a->val = 1\n",
    "\n",
    "2.1 Set b->PyObject_HEAD->typecode = integer\n",
    "2.2 Set b->val = 2\n",
    "\n",
    "3.1 get typecode of a\n",
    "3.2 get the value of a\n",
    "3.3 get typecode of b\n",
    "3.4 get the value of b\n",
    "3.5 compare typeof a and b, both are integer, then use binary_add<int, int>\n",
    "3.3 The result is an integer\n",
    "\n",
    "4.1 set c->PyObject_HEAD->typecode = integer\n",
    "4.2 set c->val = result\n",
    "\n",
    "This is why python is slow in comparison with C."
   ]
  },
  {
   "cell_type": "markdown",
   "metadata": {},
   "source": [
    "##The importance of being dynamically typed\n",
    "Unlike C python does not know what kind of information the \"variable\" is pointing to, this is solved at run time.\n",
    "Python handles variables more like tags that point to some memory, you migth say \"C does the same\". But Python does not knows what information is in that memory\n",
    "\n",
    "The dynamic typing means that there are a lot more steps involved with any operation.\n"
   ]
  },
  {
   "cell_type": "code",
   "execution_count": 20,
   "metadata": {
    "collapsed": false
   },
   "outputs": [
    {
     "name": "stdout",
     "output_type": "stream",
     "text": [
      "myVar as string: 140532750383600\n",
      "myVar_2: 140532750383600\n",
      "**************************************************\n",
      "<type 'str'>\n",
      "myVar as int: 24324008\n",
      "<type 'int'>\n"
     ]
    }
   ],
   "source": [
    "myVar = \"string\"\n",
    "print \"myVar as string: \" + str(id(myVar)) # Get the address of myVar\n",
    "myVar_2 = \"string\"\n",
    "print \"myVar_2: \" + str(id(myVar_2)) # Get the address of myVar_2\n",
    "print 50*\"*\"\n",
    "print type(myVar)\n",
    "myVar = 3\n",
    "print \"myVar as int: \" + str(id(myVar)) # Get the address of a\n",
    "print type(a)\n"
   ]
  },
  {
   "cell_type": "code",
   "execution_count": 7,
   "metadata": {
    "collapsed": false
   },
   "outputs": [
    {
     "name": "stdout",
     "output_type": "stream",
     "text": [
      "Cero Chars: 37\n",
      "onechar: 38\n",
      "Two chars: 39\n"
     ]
    }
   ],
   "source": [
    "import sys\n",
    "print \"Cero Chars: \" + str(sys.getsizeof(\"\"))\n",
    "print \"onechar: \" + str(sys.getsizeof(\"a\"))\n",
    "print \"Two chars: \" + str(sys.getsizeof(\"ab\"))"
   ]
  },
  {
   "cell_type": "markdown",
   "metadata": {
    "collapsed": true
   },
   "source": [
    "#Python Statements\n",
    "Python uses indentation to differentiate different blocks.\n",
    "The best way to indent is with spaces, some use tabs and they are wrong.\n",
    "But python allows both, even a mix of both at the same time, but is highly discouraged.\n",
    "https://perso.limsi.fr/pointal/_media/python:cours:mementopython3-english.pdf\n",
    "**insert image of statements blocks**\n",
    "\n",
    "##Keywords\n",
    "Python has twenty-nine keywords\n",
    ">```\n",
    "and       def       exec      if        not       return\n",
    "assert    del       finally   import    or        try\n",
    "break     elif      for       in        pass      while\n",
    "class     else      from      is        print     yield\n",
    "continue  except    global    lambda    raise\n",
    "```\n",
    "\n",
    "\n",
    "##Identifiers\n",
    "Python identifiers for variables, functions, modules, classes ... have the following requierements.\n",
    "- The identifiers are case sensitive\n",
    "- Shall not start with a number\n",
    "- Diacritics are allowed but should be avoided\n",
    "- No language keywords\n",
    "- a..zA..Z_ followed by a..zA..Z_0..9\n",
    "\n",
    "##Conditional statemens and boolean logic\n",
    "\n",
    ">```\n",
    "if <logical expression>:\n",
    "    statements block\n",
    "```\n",
    "\n",
    "can go with several `elif` and only one final `else`\n",
    "\n",
    "###Comparators:\n",
    "- `<` \n",
    "- `>` \n",
    "- `<=` \n",
    "- `>=`\n",
    "- `==` \n",
    "- `!=` \n",
    "- `and` Logical and, like `&&` in C\n",
    "- `or` Logical or, like `||` in C\n",
    "- `not` Logical or, like `!` in C\n",
    "\n",
    "The names `True` and `False` are reseved names used only in boolean types.\n",
    "\n",
    "##Conditional loop statement\n",
    ">```\n",
    "While <logical expression>:\n",
    "    statements block\n",
    "```\n",
    "\n",
    "##Iterative loop statement\n",
    ">```\n",
    "for <variable> in <sequence>:\n",
    "    statements block\n",
    "```\n",
    "\n",
    "##Function definition and call\n",
    ">```\n",
    "def <function name>(<Parameter1>, <Parameter2>, .. ,<ParameterN>):\n",
    "    <statement block>\n",
    "    return <result or None>\n",
    "```\n",
    "\n",
    "To call  the function:\n",
    ">```\n",
    " <result> = <function name>(<inputParameter1>, <inputParameter2>, .. , <inputParameterN>)\n",
    "```"
   ]
  },
  {
   "cell_type": "code",
   "execution_count": 21,
   "metadata": {
    "collapsed": false
   },
   "outputs": [
    {
     "name": "stdout",
     "output_type": "stream",
     "text": [
      "true\n"
     ]
    }
   ],
   "source": [
    "a = True\n",
    "if a:\n",
    "    print \"true\"\n",
    "elif a <> 1:\n",
    "    print \"2nd true\"\n",
    "elif False or a:\n",
    "    print \"3dr true\""
   ]
  },
  {
   "cell_type": "code",
   "execution_count": null,
   "metadata": {
    "collapsed": true
   },
   "outputs": [],
   "source": []
  },
  {
   "cell_type": "markdown",
   "metadata": {},
   "source": [
    "#Built-in types and functions\n",
    "##Numeric types\n",
    "###boolean\n",
    "This type of the built-in values`True` and `False`.\n",
    "True can be replaced as in **C** for any value different than zero\n",
    "False is equivalent to 0 or an empty string \"\"\n",
    "\n",
    "###int\n",
    "Equivalent to C longs\n",
    "###long\n",
    "Long integers of non-limited length\n",
    "###float\n",
    "Equivalent to double in C. Or a 64 bit IEEE 754 floating point type.\n",
    "###complex\n",
    "Complex numbers\n",
    "- - -\n"
   ]
  },
  {
   "cell_type": "code",
   "execution_count": 29,
   "metadata": {
    "collapsed": false
   },
   "outputs": [
    {
     "name": "stdout",
     "output_type": "stream",
     "text": [
      "<type 'bool'>\n",
      "<type 'int'>\n",
      "<type 'long'>\n",
      "<type 'float'>\n",
      "<type 'complex'>\n",
      "type long: <type 'long'>\n",
      "3.0\n",
      "4.0\n",
      "(3-4j)\n",
      "(8+0j)\n"
     ]
    }
   ],
   "source": [
    "typeList = [bool(), int(), long(), float(), complex()]\n",
    "for element in range(len(typeList)):\n",
    "    print type(typeList[element])\n",
    "\n",
    "    \n",
    "long_test = 400L\n",
    "print \"type long: \" + str(type(long_test))\n",
    "complex_1 = 3 + 4j\n",
    "complex_2 = 5 - 4j\n",
    "print complex_1.real\n",
    "print complex_1.imag\n",
    "print complex_1.conjugate()\n",
    "print complex_1 + complex_2"
   ]
  },
  {
   "cell_type": "markdown",
   "metadata": {},
   "source": [
    "##Sequences\n",
    "###str \n",
    "A sequnce of 8 bit characters in python 2.x and a sequence of unicode(16 bit) charactes in python 3.x\n",
    "###byte\n",
    "Sequence of integers in the range of 0-255 (only python 3.x)\n",
    "###byte array\n",
    "Byte array, is like the byte type, but mutable (only python 3.x)\n",
    "###list \n",
    "A collection of different objects, this objects can be of the same or different type.\n",
    "###tuple\n",
    "The same as a list, but  it can't be changed. Tuples use parenthesis and lists square brackets\n",
    "####Operations on tuples\n",
    "\n",
    "<table class=\"src\">\n",
    "<tr>\n",
    "<th style=\"width:33%\">Python Expression</th><th style=\"width:33%\">Results </th><th style=\"width:33%\"> Description</th></tr>\n",
    "<tr><td>len((1, 2, 3))</td><td>3</td><td>Length</td></tr>\n",
    "<tr><td>(1, 2, 3) + (4, 5, 6)</td><td>(1, 2, 3, 4, 5, 6)</td><td>Concatenation</td></tr>\n",
    "<tr><td>('Hi!',) * 4</td><td>('Hi!', 'Hi!', 'Hi!', 'Hi!')</td><td>Repetition</td></tr>\n",
    "<tr><td>3 in (1, 2, 3)</td><td>True</td><td>Membership</td></tr>\n",
    "<tr><td>for x in (1, 2, 3): print x,</td><td>1 2 3</td><td>Iteration</td></tr>\n",
    "</table>\n",
    "\n",
    "\n",
    "###"
   ]
  },
  {
   "cell_type": "code",
   "execution_count": 31,
   "metadata": {
    "collapsed": false
   },
   "outputs": [
    {
     "name": "stdout",
     "output_type": "stream",
     "text": [
      "test string\n",
      "t\n",
      "t string\n",
      "es\n",
      "test stringtest stringtest stringtest stringtest string\n",
      "test stringgame over\n"
     ]
    }
   ],
   "source": [
    "string = \"test string\"\n",
    "#String can be indexed as a list using square brackets\n",
    "print string\n",
    "print string[0]\n",
    "print string[3:]\n",
    "print string[1:3]\n",
    "# In python it  is possible to \"multiply\" strings\n",
    "print string *  5\n",
    "# To concatenate use the + operator\n",
    "print string + \"-game over-\""
   ]
  },
  {
   "cell_type": "markdown",
   "metadata": {},
   "source": [
    "##Mappings\n",
    "###dict\n",
    "This is an associative array, this means that each element in the array is associated to a definition.\n",
    "Dictionaries use brackets to "
   ]
  },
  {
   "cell_type": "code",
   "execution_count": null,
   "metadata": {
    "collapsed": true
   },
   "outputs": [],
   "source": []
  },
  {
   "cell_type": "markdown",
   "metadata": {},
   "source": [
    "##Sets\n",
    "###Set\n",
    "Unordered collection of unique objects\n",
    "###Frozen set\n",
    "Like the standard set but immutable "
   ]
  },
  {
   "cell_type": "code",
   "execution_count": null,
   "metadata": {
    "collapsed": true
   },
   "outputs": [],
   "source": []
  },
  {
   "cell_type": "markdown",
   "metadata": {},
   "source": [
    "#How to use import\n",
    "A language is as good as it's libraries. Python has a lot of libraries from scientific data analysis to pen-testing libraries.\n"
   ]
  },
  {
   "cell_type": "code",
   "execution_count": null,
   "metadata": {
    "collapsed": true
   },
   "outputs": [],
   "source": []
  },
  {
   "cell_type": "markdown",
   "metadata": {
    "slideshow": {
     "slide_type": "-"
    }
   },
   "source": [
    "#Application Example\n",
    "In this application example we will try to apply all the gathered knowledge and land it to something, if not useful, at least intersting.\n",
    "\n",
    "##Finding if a string is in a language or just random letters"
   ]
  },
  {
   "cell_type": "code",
   "execution_count": 1,
   "metadata": {
    "collapsed": true
   },
   "outputs": [],
   "source": [
    "#File name myModule.py\n",
    "letters = [ [\"A\",0],\n",
    "            [\"B\",0],\n",
    "            [\"C\",0],\n",
    "            [\"D\",0],\n",
    "            [\"E\",0],\n",
    "            [\"F\",0],\n",
    "            [\"G\",0],\n",
    "            [\"H\",0],\n",
    "            [\"I\",0],\n",
    "            [\"J\",0],\n",
    "            [\"K\",0],\n",
    "            [\"L\",0],\n",
    "            [\"M\",0],\n",
    "            [\"N\",0],\n",
    "            [\"O\",0],\n",
    "            [\"P\",0],\n",
    "            [\"Q\",0],\n",
    "            [\"R\",0],\n",
    "            [\"S\",0],\n",
    "            [\"T\",0],\n",
    "            [\"U\",0],\n",
    "            [\"V\",0],\n",
    "            [\"W\",0],\n",
    "            [\"X\",0],\n",
    "            [\"Y\",0],\n",
    "            [\"Z\",0],\n",
    "            ]\n",
    "\n",
    "\n",
    "def testFunction(a,b):\n",
    "    print a*str(b)\n",
    "\n",
    "def countLetters(inStr):\n",
    "    global letters\n",
    "## si no se usan las funciones range y len para letters, entoces\n",
    "## letter_index se hace una lista, con las funciones se puede usar para hacer\n",
    "## indexacion del array\n",
    "\n",
    "#changing the input string a upper case\n",
    "    inStr =  inStr.upper()\n",
    "##    inStr.upper(this)\n",
    "#    print inStr\n",
    "    for letter_index in range(len(letters)):\n",
    "#adding the letters per each line\n",
    "        letters[letter_index][1] += inStr.count(letters[letter_index][0])\n",
    "\n",
    "def getResults():\n",
    "    global letters\n",
    "   # print letters[letter_index][0] + \" : \" + str(letters[letter_index][1])\n",
    "    print letters\n",
    "    return letters\n",
    "\n",
    "def countLettersFile(inFile):\n",
    "    global letters\n",
    "\n",
    "    freq = [] # create empty list\n",
    "    for line in inFile:\n",
    "        countLetters(line)\n",
    "    # get the output array to translate it to a list\n",
    "    temp_arr =  getResults()\n",
    "\n",
    "    for element in range(len(letters)):\n",
    "        freq.append(letters[element][1])\n",
    "    return freq\n"
   ]
  },
  {
   "cell_type": "code",
   "execution_count": 9,
   "metadata": {
    "collapsed": false
   },
   "outputs": [
    {
     "name": "stdout",
     "output_type": "stream",
     "text": [
      "4444\n",
      "[['A', 18594], ['B', 5877], ['C', 12348], ['D', 15390], ['E', 46179], ['F', 6201], ['G', 9270], ['H', 15354], ['I', 25209], ['J', 1278], ['K', 3267], ['L', 13068], ['M', 9396], ['N', 29628], ['O', 16245], ['P', 5058], ['Q', 180], ['R', 22095], ['S', 17262], ['T', 25245], ['U', 11907], ['V', 2457], ['W', 6381], ['X', 297], ['Y', 2934], ['Z', 1908]]\n",
      "Type of data: <type 'list'>\n"
     ]
    },
    {
     "ename": "TypeError",
     "evalue": "'int' object has no attribute '__getitem__'",
     "output_type": "error",
     "traceback": [
      "\u001b[1;31m---------------------------------------------------------------------------\u001b[0m",
      "\u001b[1;31mTypeError\u001b[0m                                 Traceback (most recent call last)",
      "\u001b[1;32m<ipython-input-9-7f8f1cf644db>\u001b[0m in \u001b[0;36m<module>\u001b[1;34m()\u001b[0m\n\u001b[0;32m     64\u001b[0m     \u001b[1;32mprint\u001b[0m \u001b[1;34m\"Type of data: \"\u001b[0m \u001b[1;33m+\u001b[0m \u001b[0mstr\u001b[0m\u001b[1;33m(\u001b[0m\u001b[0mtype\u001b[0m\u001b[1;33m(\u001b[0m\u001b[0mdata\u001b[0m\u001b[1;33m)\u001b[0m\u001b[1;33m)\u001b[0m\u001b[1;33m\u001b[0m\u001b[0m\n\u001b[0;32m     65\u001b[0m     \u001b[0mrow\u001b[0m \u001b[1;33m=\u001b[0m \u001b[1;33m[\u001b[0m\u001b[1;33m]\u001b[0m\u001b[1;33m\u001b[0m\u001b[0m\n\u001b[1;32m---> 66\u001b[1;33m     \u001b[1;32mprint\u001b[0m \u001b[1;33m[\u001b[0m\u001b[0mrow\u001b[0m\u001b[1;33m[\u001b[0m\u001b[1;36m0\u001b[0m\u001b[1;33m]\u001b[0m \u001b[1;32mfor\u001b[0m \u001b[0mrow\u001b[0m \u001b[1;32min\u001b[0m \u001b[0mdata\u001b[0m\u001b[1;33m]\u001b[0m\u001b[1;33m\u001b[0m\u001b[0m\n\u001b[0m\u001b[0;32m     67\u001b[0m     \u001b[0mplt\u001b[0m\u001b[1;33m.\u001b[0m\u001b[0mhist\u001b[0m\u001b[1;33m(\u001b[0m\u001b[0mdata\u001b[0m\u001b[1;33m)\u001b[0m\u001b[1;33m\u001b[0m\u001b[0m\n\u001b[0;32m     68\u001b[0m     \u001b[0mplt\u001b[0m\u001b[1;33m.\u001b[0m\u001b[0mshow\u001b[0m\u001b[1;33m(\u001b[0m\u001b[1;33m)\u001b[0m\u001b[1;33m\u001b[0m\u001b[0m\n",
      "\u001b[1;31mTypeError\u001b[0m: 'int' object has no attribute '__getitem__'"
     ]
    }
   ],
   "source": [
    "#!/usr/bin/python -tt\n",
    "##filename countletters.py\n",
    "import myModule\n",
    "import matplotlib.pyplot as plt\n",
    "## Java was written in such way that making bad code were difficult, python\n",
    "## is written in a way that makes writting good code easy\n",
    "\n",
    "####################################################\n",
    "def raw_VS_input():\n",
    "    #differencia entre raw_input y input\n",
    "    #dar como para metro de entrada range(0,10,1)\n",
    "    print \"it works\"\n",
    "    inStr = raw_input(\"raw text: \");\n",
    "    print inStr\n",
    "    inStr = input(\"exec text: \");\n",
    "    print inStr\n",
    "\n",
    "####################################################\n",
    "def fileOp():\n",
    "    textFile = open(\"testText.txt\", \"r+\") # open the file in read and write, the FP is at the end\n",
    "    print type(textFile)\n",
    "    \n",
    "    #check the status of the file object\n",
    "    if(textFile.closed == True):\n",
    "        print \"El archivo esta cerrado\"\n",
    "    else:\n",
    "        print \"el archivo esta abierto\"\n",
    "\n",
    "    print \"imprime el modo en que se abrio el archivo\"\n",
    "    print textFile.mode\n",
    "\n",
    "    print \"imprime el nombre del archivo\"\n",
    "    print textFile.name\n",
    "    \n",
    "    # REMEMBER TO ALWAYS CLOSE THE FILE EXPLICITLITY IF POSSIBLE\n",
    "    textFile.close()\n",
    "####################################################\n",
    "def readLines():\n",
    "    #textFile = open(\"testText.txt\", \"r+\") # open the file in read and write, the FP is at the end\n",
    "    textFile = open(\"DerTorUndDerTod.txt\", \"r+\") # open the file in read and write, the FP is at the end\n",
    "    lineCount = 0\n",
    "    #for lines in textFile.linecount():\n",
    "    for lines in textFile:\n",
    "        lineCount += 1\n",
    "        print lines, #the comma at the end avoids the new line\n",
    "    #also\n",
    "        print lines.strip('\\n'), #the comma at the end avoids the new line\n",
    "    print type(lines)\n",
    "    textFile.close()\n",
    "    return lineCount\n",
    "\n",
    "####################################################\n",
    "if __name__ == \"__main__\":\n",
    "    #raw_VS_input()\n",
    "    #fileOp()\n",
    "   # lineCount = readLines()\n",
    "   # print \"Line count: \" + str(lineCount)\n",
    "    myModule.testFunction(4,4)\n",
    "    ## this function receives a file object\n",
    "    textFile = open(\"DerTorUndDerTod.txt\", \"r+\") # open the file in read and write, the FP is at the end\n",
    "    #plot.hist( myModule.countLettersFile(textFile))\n",
    "\n",
    "    data = myModule.countLettersFile(textFile)\n",
    "    print \"Type of data: \" + str(type(data))\n",
    "    row = []\n",
    "    print [row[0] for row in data]\n",
    "    plt.hist(data)\n",
    "    plt.show()\n",
    "    textFile.close()\n"
   ]
  },
  {
   "cell_type": "code",
   "execution_count": null,
   "metadata": {
    "collapsed": true
   },
   "outputs": [],
   "source": []
  },
  {
   "cell_type": "code",
   "execution_count": null,
   "metadata": {
    "collapsed": true
   },
   "outputs": [],
   "source": []
  },
  {
   "cell_type": "code",
   "execution_count": null,
   "metadata": {
    "collapsed": true
   },
   "outputs": [],
   "source": []
  },
  {
   "cell_type": "code",
   "execution_count": null,
   "metadata": {
    "collapsed": true
   },
   "outputs": [],
   "source": []
  },
  {
   "cell_type": "code",
   "execution_count": null,
   "metadata": {
    "collapsed": true
   },
   "outputs": [],
   "source": []
  },
  {
   "cell_type": "code",
   "execution_count": null,
   "metadata": {
    "collapsed": true
   },
   "outputs": [],
   "source": []
  },
  {
   "cell_type": "code",
   "execution_count": null,
   "metadata": {
    "collapsed": true
   },
   "outputs": [],
   "source": []
  },
  {
   "cell_type": "code",
   "execution_count": null,
   "metadata": {
    "collapsed": true
   },
   "outputs": [],
   "source": []
  }
 ],
 "metadata": {
  "celltoolbar": "Slideshow",
  "kernelspec": {
   "display_name": "Python 2",
   "language": "python",
   "name": "python2"
  },
  "language_info": {
   "codemirror_mode": {
    "name": "ipython",
    "version": 2
   },
   "file_extension": ".py",
   "mimetype": "text/x-python",
   "name": "python",
   "nbconvert_exporter": "python",
   "pygments_lexer": "ipython2",
   "version": "2.7.3"
  }
 },
 "nbformat": 4,
 "nbformat_minor": 0
}
